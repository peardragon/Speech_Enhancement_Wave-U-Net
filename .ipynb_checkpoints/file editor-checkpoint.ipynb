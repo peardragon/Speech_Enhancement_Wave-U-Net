{
 "cells": [
  {
   "cell_type": "code",
   "execution_count": 39,
   "id": "27f35153",
   "metadata": {},
   "outputs": [],
   "source": [
    "import glob\n",
    "import os"
   ]
  },
  {
   "cell_type": "code",
   "execution_count": 2,
   "id": "1a94e651",
   "metadata": {},
   "outputs": [],
   "source": [
    "# make dataset txt\n",
    "\n",
    "f = open(\"dataset/dataset_list.txt\",'w')\n",
    "namelist = glob.glob(\"dataset/noisy/*.wav\")\n",
    "for name in namelist:\n",
    "    idx = name[-12:]\n",
    "    string = f'dataset/noisy/{idx} dataset/clean/{idx}\\n'\n",
    "    f.write(string)\n",
    "f.close()"
   ]
  },
  {
   "cell_type": "code",
   "execution_count": 56,
   "id": "01dcc4f1",
   "metadata": {},
   "outputs": [],
   "source": [
    "# make testset txt\n",
    "\n",
    "f = open(\"testset/testset_list.txt\",'w')\n",
    "namelist = glob.glob(\"testset/noisy/*.wav\")\n",
    "for name in namelist:\n",
    "    idx = name[-12:]\n",
    "    string = f'testset/noisy/{idx} testset/clean/{idx}\\n'\n",
    "    f.write(string)\n",
    "f.close()"
   ]
  },
  {
   "cell_type": "code",
   "execution_count": 28,
   "id": "f538ac3e",
   "metadata": {},
   "outputs": [],
   "source": [
    "def get_ckpt(path):\n",
    "    total_list = []\n",
    "    for x in ['?', '??', '???']:\n",
    "        ptlist = glob.glob(f\"./{path}/ckpt_{x}.pt\")\n",
    "        if(len(ptlist)>0):\n",
    "            total_list.append(ptlist)\n",
    "\n",
    "    return total_list[-1][-1]"
   ]
  },
  {
   "cell_type": "code",
   "execution_count": 54,
   "id": "484b6227",
   "metadata": {},
   "outputs": [],
   "source": [
    "# file rename\n",
    "\n",
    "PATH = \"pt-checkpoints_2021.11.22-04-38\"\n",
    "ptlist = glob.glob(f\"./{PATH}/ckpt_*_*.pt\")\n",
    "for ckpt in ptlist:\n",
    "    idx = int(ckpt[ckpt.rfind(\"_\")+1:-3])\n",
    "    if(idx % 200!=0):\n",
    "        idx += 1\n",
    "        new_name = ckpt[:ckpt.rfind(\"_\")+1] + str(idx) + \".pt\"\n",
    "        os.rename(ckpt, new_name)\n",
    "    \n",
    "#     print(ckpt,\" \" ,new_name)\n",
    "    \n",
    "    \n",
    "    "
   ]
  }
 ],
 "metadata": {
  "kernelspec": {
   "display_name": "dl",
   "language": "python",
   "name": "dl"
  },
  "language_info": {
   "codemirror_mode": {
    "name": "ipython",
    "version": 3
   },
   "file_extension": ".py",
   "mimetype": "text/x-python",
   "name": "python",
   "nbconvert_exporter": "python",
   "pygments_lexer": "ipython3",
   "version": "3.6.13"
  }
 },
 "nbformat": 4,
 "nbformat_minor": 5
}
